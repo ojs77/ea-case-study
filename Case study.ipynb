{
 "cells": [
  {
   "cell_type": "markdown",
   "id": "764f095c",
   "metadata": {},
   "source": [
    "# Energy Aspects Data Analyst case study\n",
    "You are a data analyst at Energy Aspects. <br>\n",
    "The gas team needs a model to help them understand gas demand in Northern Scotland. <br>\n",
    "They believe Gas demand is tied up to temperatures and tasked you to forecast minimum temperatures in the next 24 months.<br>\n",
    "For this exercise, you will use weather data from Wick Airport as a proxy for Northern Scotland weather.<br>\n",
    "The language to be used is Python.<br>\n",
    "You can use any library you may find useful for the task.<br>\n",
    "\n",
    "### Case study assessment\n",
    "- Do not overcomplexify your answers. We value our team's ability to give simple answers to simple questions\n",
    "- Focus on clean code and short, high level explainations of choices\n",
    "- Do not spend time tuning models to get accurate results. We will not assess you on model accuracy / tuning\n",
    "- We will assess relevance of analytics, visualisations, model choice and reasonings"
   ]
  },
  {
   "cell_type": "markdown",
   "id": "46a9f483",
   "metadata": {},
   "source": [
    "## Data source and description\n",
    "\n",
    "wick_airport_weather_data.csv<br>\n",
    "https://www.metoffice.gov.uk/research/climate/maps-and-data/historic-station-data<br>\n",
    "\n",
    "Wick Airport<br>\n",
    "Location  336500E 952200N, Lat 58.454 Lon -3.088, 36m amsl<br>\n",
    "Estimated data is marked with a * after the value.<br>\n",
    "Missing data (more than 2 days missing in month) is marked by  ---.<br>\n",
    "Sunshine data taken from an automatic Kipp & Zonen sensor marked with a #, otherwise sunshine data taken from a Campbell Stokes recorder.<br>\n",
    "- Mean daily maximum temperature (tmax): degC\n",
    "- Mean daily minimum temperature (tmin): degC\n",
    "- Days of air frost (af): days\n",
    "- Total rainfall (rain): mm\n",
    "- Total sunshine duration (sun): hours"
   ]
  },
  {
   "cell_type": "markdown",
   "id": "72609009",
   "metadata": {},
   "source": [
    "# Import data\n",
    "Import data from data/wick_airport_weather_data.csv"
   ]
  },
  {
   "cell_type": "code",
   "execution_count": null,
   "id": "cdf0be59",
   "metadata": {},
   "outputs": [],
   "source": []
  },
  {
   "cell_type": "markdown",
   "id": "633e49e3",
   "metadata": {},
   "source": [
    "# Extract and transform\n",
    "Make all the cleaning and transformation steps you judge necessary to analyse the data"
   ]
  },
  {
   "cell_type": "code",
   "execution_count": null,
   "id": "ca3359ef",
   "metadata": {},
   "outputs": [],
   "source": []
  },
  {
   "cell_type": "markdown",
   "id": "af3642f8",
   "metadata": {},
   "source": [
    "# Data exploration and charting\n",
    "Perform Exploratory Data Analysis on the dataset.<br>\n",
    "Present your findings in a few lines and charts."
   ]
  },
  {
   "cell_type": "code",
   "execution_count": null,
   "id": "6897654b",
   "metadata": {},
   "outputs": [],
   "source": []
  },
  {
   "cell_type": "markdown",
   "id": "7a04b6c8",
   "metadata": {},
   "source": [
    "# Modelling\n",
    "Choose a model, backtest it and generate forecasts for the 24 months ahead.<br>\n",
    "Explain your model choice in a few lines and present backtesting / forecasting results using tables and charts understandable for analysts who do not write code or build statistical models.\n"
   ]
  },
  {
   "cell_type": "code",
   "execution_count": null,
   "id": "b877c82c",
   "metadata": {},
   "outputs": [],
   "source": []
  }
 ],
 "metadata": {
  "kernelspec": {
   "display_name": "Python 3 (ipykernel)",
   "language": "python",
   "name": "python3"
  },
  "language_info": {
   "codemirror_mode": {
    "name": "ipython",
    "version": 3
   },
   "file_extension": ".py",
   "mimetype": "text/x-python",
   "name": "python",
   "nbconvert_exporter": "python",
   "pygments_lexer": "ipython3",
   "version": "3.9.12"
  }
 },
 "nbformat": 4,
 "nbformat_minor": 5
}
